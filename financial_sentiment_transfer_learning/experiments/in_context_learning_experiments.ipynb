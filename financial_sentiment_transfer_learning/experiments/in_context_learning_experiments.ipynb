{
  "cells": [
    {
      "cell_type": "markdown",
      "source": [
        "# In-Context Learning"
      ],
      "metadata": {
        "id": "087JmGnVI8yn"
      }
    },
    {
      "cell_type": "markdown",
      "source": [],
      "metadata": {
        "id": "exe8ELKHJBJH"
      }
    },
    {
      "cell_type": "code",
      "execution_count": null,
      "metadata": {
        "id": "i9Q_g-4bFCUH"
      },
      "outputs": [],
      "source": [
        "!pip install -q datasets transformers accelerate bitsandbytes\n",
        "\n",
        "from transformers import AutoTokenizer, AutoModelForCausalLM, pipeline\n",
        "from datasets import load_dataset\n",
        "import torch\n",
        "import numpy as np\n",
        "import pandas as pd\n",
        "from sklearn.metrics import (\n",
        "    classification_report,\n",
        "    confusion_matrix,\n",
        "    ConfusionMatrixDisplay,\n",
        "    accuracy_score,\n",
        "    f1_score\n",
        ")\n",
        "import matplotlib.pyplot as plt\n",
        "import seaborn as sns\n"
      ]
    },
    {
      "cell_type": "markdown",
      "source": [
        "# Load Falcon-7B-Instruct\n",
        "*- Selected because it's open access*"
      ],
      "metadata": {
        "id": "uYaxWBMaJERO"
      }
    },
    {
      "cell_type": "code",
      "source": [
        "model_name = \"tiiuae/falcon-7b-instruct\"\n",
        "\n",
        "tokenizer = AutoTokenizer.from_pretrained(model_name)\n",
        "model = AutoModelForCausalLM.from_pretrained(\n",
        "    model_name,\n",
        "    device_map=\"auto\",        # Automatically assigns GPU/CPU\n",
        "    torch_dtype=torch.float16,\n",
        "    load_in_4bit=True\n",
        ")"
      ],
      "metadata": {
        "id": "JLQzVoMWJDrd",
        "outputId": "90bb70f4-4854-4e43-f1bc-b5b7895c4a7f",
        "colab": {
          "base_uri": "https://localhost:8080/",
          "height": 86,
          "referenced_widgets": [
            "333250754daf456f8aeba041ef3753d9",
            "58faa05ce8c049a0984ef16d8c4566f0",
            "71ea6fd347da46bbb6ffa349fe306750",
            "213cb3a4dd8e49b7a387d6d3a3276cb7",
            "374d56a17cfd42b0a6cde44ea924bb85",
            "985c9300edf2485da7628e97572c7d77",
            "67bf9dffad7746989a250466102000c8",
            "21dc39eb12dc43a6852cb5be356ab92d",
            "0de71cbb54b3402d921e1bfb9e87c7af",
            "7e6d68d0c68c4652a4cbb2a5bfeb2689",
            "a3c531fe4bfd44f1a167bbb25e39edf6"
          ]
        }
      },
      "execution_count": null,
      "outputs": [
        {
          "output_type": "stream",
          "name": "stderr",
          "text": [
            "The `load_in_4bit` and `load_in_8bit` arguments are deprecated and will be removed in the future versions. Please, pass a `BitsAndBytesConfig` object in `quantization_config` argument instead.\n"
          ]
        },
        {
          "output_type": "display_data",
          "data": {
            "text/plain": [
              "Loading checkpoint shards:   0%|          | 0/2 [00:00<?, ?it/s]"
            ],
            "application/vnd.jupyter.widget-view+json": {
              "version_major": 2,
              "version_minor": 0,
              "model_id": "333250754daf456f8aeba041ef3753d9"
            }
          },
          "metadata": {}
        }
      ]
    },
    {
      "cell_type": "markdown",
      "source": [
        "# Load Finanical PhraseBank"
      ],
      "metadata": {
        "id": "XpexMWEmJLe4"
      }
    },
    {
      "cell_type": "code",
      "source": [
        "\n",
        "\n",
        "dataset = load_dataset(\"financial_phrasebank\", \"sentences_allagree\")\n",
        "df = pd.DataFrame(dataset['train'])\n",
        "df = df.rename(columns={\"sentence\": \"text\", \"label\": \"true_label\"})\n",
        "\n",
        "label_map = {0: \"negative\", 1: \"neutral\", 2: \"positive\"}\n",
        "df[\"label_text\"] = df[\"true_label\"].map(label_map)\n",
        "\n",
        "# Shuffle and sample\n",
        "df = df.sample(frac=1, random_state=42).reset_index(drop=True)\n",
        "few_shot = df[:5]\n",
        "test_set = df[5:25]\n"
      ],
      "metadata": {
        "id": "o-lC5VKEJNiv"
      },
      "execution_count": null,
      "outputs": []
    },
    {
      "cell_type": "markdown",
      "source": [
        "# Prompt Builder"
      ],
      "metadata": {
        "id": "jZpsYm50JQW1"
      }
    },
    {
      "cell_type": "code",
      "source": [
        "def build_prompt(few_shot_df, test_sentence):\n",
        "    prompt = \"Classify the sentiment of each financial headline as Positive, Neutral, or Negative.\\n\\n\"\n",
        "    for i, row in few_shot_df.iterrows():\n",
        "        prompt += f\"{i+1}. \\\"{row['text']}\\\" → {row['label_text'].capitalize()}\\n\"\n",
        "    prompt += f\"{len(few_shot_df)+1}. \\\"{test_sentence}\\\" →\"\n",
        "    return prompt\n"
      ],
      "metadata": {
        "id": "nVDIbMkQJR7i"
      },
      "execution_count": null,
      "outputs": []
    },
    {
      "cell_type": "markdown",
      "source": [
        "# Prediction Loop"
      ],
      "metadata": {
        "id": "OcEVijVhJTXM"
      }
    },
    {
      "cell_type": "code",
      "source": [
        "def generate_response(prompt, max_tokens=20):\n",
        "    inputs = tokenizer(prompt, return_tensors=\"pt\").to(model.device)\n",
        "    output = model.generate(\n",
        "        **inputs,\n",
        "        max_new_tokens=max_tokens,\n",
        "        do_sample=False,\n",
        "        pad_token_id=tokenizer.eos_token_id\n",
        "    )\n",
        "    decoded = tokenizer.decode(output[0], skip_special_tokens=True)\n",
        "    return decoded[len(prompt):].strip().lower()\n",
        "\n",
        "predictions = []\n",
        "for i, row in test_set.iterrows():\n",
        "    prompt = build_prompt(few_shot, row[\"text\"])\n",
        "    response = generate_response(prompt)\n",
        "    for label in [\"positive\", \"neutral\", \"negative\"]:\n",
        "        if label in response:\n",
        "            predictions.append(label)\n",
        "            break\n",
        "    else:\n",
        "        predictions.append(\"unknown\")\n"
      ],
      "metadata": {
        "id": "ehWZnB6oJVJM"
      },
      "execution_count": null,
      "outputs": []
    },
    {
      "cell_type": "markdown",
      "source": [
        "# Evaluation"
      ],
      "metadata": {
        "id": "pikuiTvvJUhY"
      }
    },
    {
      "cell_type": "code",
      "source": [
        "labels = [\"positive\", \"neutral\", \"negative\"]\n",
        "cm = confusion_matrix(true, pred, labels=labels)\n",
        "disp = ConfusionMatrixDisplay(confusion_matrix=cm, display_labels=labels)\n",
        "fig, ax = plt.subplots(figsize=(8, 6))\n",
        "disp.plot(cmap=\"Blues\", ax=ax, colorbar=True)\n",
        "plt.title(\"🧠 Falcon In-Context Learning Confusion Matrix\")\n",
        "plt.show()"
      ],
      "metadata": {
        "id": "57yG7pSmJYS1",
        "outputId": "ac1495dc-db18-405d-997b-1e015705e519",
        "colab": {
          "base_uri": "https://localhost:8080/",
          "height": 598
        }
      },
      "execution_count": null,
      "outputs": [
        {
          "output_type": "stream",
          "name": "stderr",
          "text": [
            "/usr/local/lib/python3.11/dist-packages/IPython/core/pylabtools.py:151: UserWarning: Glyph 129504 (\\N{BRAIN}) missing from font(s) DejaVu Sans.\n",
            "  fig.canvas.print_figure(bytes_io, **kw)\n"
          ]
        },
        {
          "output_type": "display_data",
          "data": {
            "text/plain": [
              "<Figure size 800x600 with 2 Axes>"
            ],
            "image/png": "[encoded data removed]"
          },
          "metadata": {}
        }
      ]
    },
    {
      "cell_type": "markdown",
      "source": [
        "## Results"
      ],
      "metadata": {
        "id": "Z8Yb0mr9JZXP"
      }
    },
    {
      "cell_type": "markdown",
      "source": [
        "# Shot Prompting"
      ],
      "metadata": {
        "id": "tEIUG0ScMwyn"
      }
    },
    {
      "cell_type": "code",
      "source": [
        "from sklearn.metrics import f1_score\n",
        "\n",
        "seeds = [42, 99, 123, 2025, 7]\n",
        "accuracies = []\n",
        "f1_macros = []\n",
        "\n",
        "for seed in seeds:\n",
        "    few_shot = sample_few_shot_balanced(df, shots_per_class=3, seed=seed)\n",
        "\n",
        "    preds = []\n",
        "    for _, row in test_set.iterrows():\n",
        "        prompt = build_prompt(few_shot, row[\"text\"])\n",
        "        response = generate_response(prompt)\n",
        "        for label in [\"positive\", \"neutral\", \"negative\"]:\n",
        "            if label in response:\n",
        "                preds.append(label)\n",
        "                break\n",
        "        else:\n",
        "            preds.append(\"unknown\")\n",
        "\n",
        "    # Save prediction to test set for the *last* seed\n",
        "    if seed == seeds[-1]:\n",
        "        test_set[\"predicted_label_9shot\"] = preds\n",
        "\n",
        "    true = test_set[\"label_text\"]\n",
        "    pred = preds\n",
        "    acc = accuracy_score(true, pred)\n",
        "    f1 = f1_score(true, pred, average=\"macro\", zero_division=0)\n",
        "\n",
        "    accuracies.append(acc)\n",
        "    f1_macros.append(f1)\n",
        "\n",
        "# Display average performance\n",
        "print(f\"Averaged over {len(seeds)} seeds:\")\n",
        "print(f\"Mean Accuracy: {np.mean(accuracies):.2f}\")\n",
        "print(f\"Mean Macro F1 Score: {np.mean(f1_macros):.2f}\")\n",
        "\n",
        "# Plot confusion matrix from last run\n",
        "labels = [\"positive\", \"neutral\", \"negative\"]\n",
        "cm = confusion_matrix(test_set[\"label_text\"], test_set[\"predicted_label_9shot\"], labels=labels)\n",
        "fig, ax = plt.subplots(figsize=(8, 6))\n",
        "ConfusionMatrixDisplay(cm, display_labels=labels).plot(cmap=\"Blues\", ax=ax)\n",
        "plt.title(\"Falcon In-Context Learning Confusion Matrix (9-shot Prompting, Last Seed)\")\n",
        "plt.show()\n",
        "\n"
      ],
      "metadata": {
        "id": "JxeVrR_LMyI4",
        "outputId": "522433ed-c1cc-4e11-9d1c-e871eef51405",
        "colab": {
          "base_uri": "https://localhost:8080/",
          "height": 717
        }
      },
      "execution_count": null,
      "outputs": [
        {
          "output_type": "stream",
          "name": "stdout",
          "text": [
            "Averaged over 5 seeds:\n",
            "Mean Accuracy: 0.81\n",
            "Mean Macro F1 Score: 0.77\n"
          ]
        },
        {
          "output_type": "stream",
          "name": "stderr",
          "text": [
            "<ipython-input-17-62de95360b39>:23: SettingWithCopyWarning: \n",
            "A value is trying to be set on a copy of a slice from a DataFrame.\n",
            "Try using .loc[row_indexer,col_indexer] = value instead\n",
            "\n",
            "See the caveats in the documentation: https://pandas.pydata.org/pandas-docs/stable/user_guide/indexing.html#returning-a-view-versus-a-copy\n",
            "  test_set[\"predicted_label_9shot\"] = preds\n"
          ]
        },
        {
          "output_type": "display_data",
          "data": {
            "text/plain": [
              "<Figure size 800x600 with 2 Axes>"
            ],
            "image/png": "[encoded data removed]"
          },
          "metadata": {}
        }
      ]
    },
    {
      "cell_type": "markdown",
      "metadata": {
        "id": "3Vb_ZhBQFCUI"
      },
      "source": [
        "Continuation back in [Main Notebook](../part1_finetuning_Distilbert.ipynb)"
      ]
    }
  ],
  "metadata": {
    "language_info": {
      "name": "python"
    },
    "colab": {
      "provenance": [],
      "machine_shape": "hm",
      "gpuType": "L4"
    },
    "accelerator": "GPU",
    "kernelspec": {
      "name": "python3",
      "display_name": "Python 3"
    },
    "widgets": {
      "application/vnd.jupyter.widget-state+json": {
        "333250754daf456f8aeba041ef3753d9": {
          "model_module": "@jupyter-widgets/controls",
          "model_name": "HBoxModel",
          "model_module_version": "1.5.0",
          "state": {
            "_dom_classes": [],
            "_model_module": "@jupyter-widgets/controls",
            "_model_module_version": "1.5.0",
            "_model_name": "HBoxModel",
            "_view_count": null,
            "_view_module": "@jupyter-widgets/controls",
            "_view_module_version": "1.5.0",
            "_view_name": "HBoxView",
            "box_style": "",
            "children": [
              "IPY_MODEL_58faa05ce8c049a0984ef16d8c4566f0",
              "IPY_MODEL_71ea6fd347da46bbb6ffa349fe306750",
              "IPY_MODEL_213cb3a4dd8e49b7a387d6d3a3276cb7"
            ],
            "layout": "IPY_MODEL_374d56a17cfd42b0a6cde44ea924bb85"
          }
        },
        "58faa05ce8c049a0984ef16d8c4566f0": {
          "model_module": "@jupyter-widgets/controls",
          "model_name": "HTMLModel",
          "model_module_version": "1.5.0",
          "state": {
            "_dom_classes": [],
            "_model_module": "@jupyter-widgets/controls",
            "_model_module_version": "1.5.0",
            "_model_name": "HTMLModel",
            "_view_count": null,
            "_view_module": "@jupyter-widgets/controls",
            "_view_module_version": "1.5.0",
            "_view_name": "HTMLView",
            "description": "",
            "description_tooltip": null,
            "layout": "IPY_MODEL_985c9300edf2485da7628e97572c7d77",
            "placeholder": "​",
            "style": "IPY_MODEL_67bf9dffad7746989a250466102000c8",
            "value": "Loading checkpoint shards: 100%"
          }
        },
        "71ea6fd347da46bbb6ffa349fe306750": {
          "model_module": "@jupyter-widgets/controls",
          "model_name": "FloatProgressModel",
          "model_module_version": "1.5.0",
          "state": {
            "_dom_classes": [],
            "_model_module": "@jupyter-widgets/controls",
            "_model_module_version": "1.5.0",
            "_model_name": "FloatProgressModel",
            "_view_count": null,
            "_view_module": "@jupyter-widgets/controls",
            "_view_module_version": "1.5.0",
            "_view_name": "ProgressView",
            "bar_style": "success",
            "description": "",
            "description_tooltip": null,
            "layout": "IPY_MODEL_21dc39eb12dc43a6852cb5be356ab92d",
            "max": 2,
            "min": 0,
            "orientation": "horizontal",
            "style": "IPY_MODEL_0de71cbb54b3402d921e1bfb9e87c7af",
            "value": 2
          }
        },
        "213cb3a4dd8e49b7a387d6d3a3276cb7": {
          "model_module": "@jupyter-widgets/controls",
          "model_name": "HTMLModel",
          "model_module_version": "1.5.0",
          "state": {
            "_dom_classes": [],
            "_model_module": "@jupyter-widgets/controls",
            "_model_module_version": "1.5.0",
            "_model_name": "HTMLModel",
            "_view_count": null,
            "_view_module": "@jupyter-widgets/controls",
            "_view_module_version": "1.5.0",
            "_view_name": "HTMLView",
            "description": "",
            "description_tooltip": null,
            "layout": "IPY_MODEL_7e6d68d0c68c4652a4cbb2a5bfeb2689",
            "placeholder": "​",
            "style": "IPY_MODEL_a3c531fe4bfd44f1a167bbb25e39edf6",
            "value": " 2/2 [00:17&lt;00:00,  7.89s/it]"
          }
        },
        "374d56a17cfd42b0a6cde44ea924bb85": {
          "model_module": "@jupyter-widgets/base",
          "model_name": "LayoutModel",
          "model_module_version": "1.2.0",
          "state": {
            "_model_module": "@jupyter-widgets/base",
            "_model_module_version": "1.2.0",
            "_model_name": "LayoutModel",
            "_view_count": null,
            "_view_module": "@jupyter-widgets/base",
            "_view_module_version": "1.2.0",
            "_view_name": "LayoutView",
            "align_content": null,
            "align_items": null,
            "align_self": null,
            "border": null,
            "bottom": null,
            "display": null,
            "flex": null,
            "flex_flow": null,
            "grid_area": null,
            "grid_auto_columns": null,
            "grid_auto_flow": null,
            "grid_auto_rows": null,
            "grid_column": null,
            "grid_gap": null,
            "grid_row": null,
            "grid_template_areas": null,
            "grid_template_columns": null,
            "grid_template_rows": null,
            "height": null,
            "justify_content": null,
            "justify_items": null,
            "left": null,
            "margin": null,
            "max_height": null,
            "max_width": null,
            "min_height": null,
            "min_width": null,
            "object_fit": null,
            "object_position": null,
            "order": null,
            "overflow": null,
            "overflow_x": null,
            "overflow_y": null,
            "padding": null,
            "right": null,
            "top": null,
            "visibility": null,
            "width": null
          }
        },
        "985c9300edf2485da7628e97572c7d77": {
          "model_module": "@jupyter-widgets/base",
          "model_name": "LayoutModel",
          "model_module_version": "1.2.0",
          "state": {
            "_model_module": "@jupyter-widgets/base",
            "_model_module_version": "1.2.0",
            "_model_name": "LayoutModel",
            "_view_count": null,
            "_view_module": "@jupyter-widgets/base",
            "_view_module_version": "1.2.0",
            "_view_name": "LayoutView",
            "align_content": null,
            "align_items": null,
            "align_self": null,
            "border": null,
            "bottom": null,
            "display": null,
            "flex": null,
            "flex_flow": null,
            "grid_area": null,
            "grid_auto_columns": null,
            "grid_auto_flow": null,
            "grid_auto_rows": null,
            "grid_column": null,
            "grid_gap": null,
            "grid_row": null,
            "grid_template_areas": null,
            "grid_template_columns": null,
            "grid_template_rows": null,
            "height": null,
            "justify_content": null,
            "justify_items": null,
            "left": null,
            "margin": null,
            "max_height": null,
            "max_width": null,
            "min_height": null,
            "min_width": null,
            "object_fit": null,
            "object_position": null,
            "order": null,
            "overflow": null,
            "overflow_x": null,
            "overflow_y": null,
            "padding": null,
            "right": null,
            "top": null,
            "visibility": null,
            "width": null
          }
        },
        "67bf9dffad7746989a250466102000c8": {
          "model_module": "@jupyter-widgets/controls",
          "model_name": "DescriptionStyleModel",
          "model_module_version": "1.5.0",
          "state": {
            "_model_module": "@jupyter-widgets/controls",
            "_model_module_version": "1.5.0",
            "_model_name": "DescriptionStyleModel",
            "_view_count": null,
            "_view_module": "@jupyter-widgets/base",
            "_view_module_version": "1.2.0",
            "_view_name": "StyleView",
            "description_width": ""
          }
        },
        "21dc39eb12dc43a6852cb5be356ab92d": {
          "model_module": "@jupyter-widgets/base",
          "model_name": "LayoutModel",
          "model_module_version": "1.2.0",
          "state": {
            "_model_module": "@jupyter-widgets/base",
            "_model_module_version": "1.2.0",
            "_model_name": "LayoutModel",
            "_view_count": null,
            "_view_module": "@jupyter-widgets/base",
            "_view_module_version": "1.2.0",
            "_view_name": "LayoutView",
            "align_content": null,
            "align_items": null,
            "align_self": null,
            "border": null,
            "bottom": null,
            "display": null,
            "flex": null,
            "flex_flow": null,
            "grid_area": null,
            "grid_auto_columns": null,
            "grid_auto_flow": null,
            "grid_auto_rows": null,
            "grid_column": null,
            "grid_gap": null,
            "grid_row": null,
            "grid_template_areas": null,
            "grid_template_columns": null,
            "grid_template_rows": null,
            "height": null,
            "justify_content": null,
            "justify_items": null,
            "left": null,
            "margin": null,
            "max_height": null,
            "max_width": null,
            "min_height": null,
            "min_width": null,
            "object_fit": null,
            "object_position": null,
            "order": null,
            "overflow": null,
            "overflow_x": null,
            "overflow_y": null,
            "padding": null,
            "right": null,
            "top": null,
            "visibility": null,
            "width": null
          }
        },
        "0de71cbb54b3402d921e1bfb9e87c7af": {
          "model_module": "@jupyter-widgets/controls",
          "model_name": "ProgressStyleModel",
          "model_module_version": "1.5.0",
          "state": {
            "_model_module": "@jupyter-widgets/controls",
            "_model_module_version": "1.5.0",
            "_model_name": "ProgressStyleModel",
            "_view_count": null,
            "_view_module": "@jupyter-widgets/base",
            "_view_module_version": "1.2.0",
            "_view_name": "StyleView",
            "bar_color": null,
            "description_width": ""
          }
        },
        "7e6d68d0c68c4652a4cbb2a5bfeb2689": {
          "model_module": "@jupyter-widgets/base",
          "model_name": "LayoutModel",
          "model_module_version": "1.2.0",
          "state": {
            "_model_module": "@jupyter-widgets/base",
            "_model_module_version": "1.2.0",
            "_model_name": "LayoutModel",
            "_view_count": null,
            "_view_module": "@jupyter-widgets/base",
            "_view_module_version": "1.2.0",
            "_view_name": "LayoutView",
            "align_content": null,
            "align_items": null,
            "align_self": null,
            "border": null,
            "bottom": null,
            "display": null,
            "flex": null,
            "flex_flow": null,
            "grid_area": null,
            "grid_auto_columns": null,
            "grid_auto_flow": null,
            "grid_auto_rows": null,
            "grid_column": null,
            "grid_gap": null,
            "grid_row": null,
            "grid_template_areas": null,
            "grid_template_columns": null,
            "grid_template_rows": null,
            "height": null,
            "justify_content": null,
            "justify_items": null,
            "left": null,
            "margin": null,
            "max_height": null,
            "max_width": null,
            "min_height": null,
            "min_width": null,
            "object_fit": null,
            "object_position": null,
            "order": null,
            "overflow": null,
            "overflow_x": null,
            "overflow_y": null,
            "padding": null,
            "right": null,
            "top": null,
            "visibility": null,
            "width": null
          }
        },
        "a3c531fe4bfd44f1a167bbb25e39edf6": {
          "model_module": "@jupyter-widgets/controls",
          "model_name": "DescriptionStyleModel",
          "model_module_version": "1.5.0",
          "state": {
            "_model_module": "@jupyter-widgets/controls",
            "_model_module_version": "1.5.0",
            "_model_name": "DescriptionStyleModel",
            "_view_count": null,
            "_view_module": "@jupyter-widgets/base",
            "_view_module_version": "1.2.0",
            "_view_name": "StyleView",
            "description_width": ""
          }
        }
      }
    }
  },
  "nbformat": 4,
  "nbformat_minor": 0
}