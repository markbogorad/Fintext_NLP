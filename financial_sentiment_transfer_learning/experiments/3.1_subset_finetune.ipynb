{
 "cells": [
  {
   "cell_type": "markdown",
   "metadata": {},
   "source": [
    "Does out of sample performance vary with changing\n",
    "\n",
    "the number of examples in Fine-Tuning\n",
    "what is the smallest number that you think is sufficient\n",
    "there are many choices of proper subsets of a given size\n",
    "does it matter which one you choose ?"
   ]
  },
  {
   "cell_type": "code",
   "execution_count": null,
   "metadata": {},
   "outputs": [],
   "source": []
  },
  {
   "cell_type": "markdown",
   "metadata": {},
   "source": [
    "Continuation back in [Main Notebook](../part1_finetuning_Distilbert.ipynb)"
   ]
  }
 ],
 "metadata": {
  "language_info": {
   "name": "python"
  }
 },
 "nbformat": 4,
 "nbformat_minor": 2
}
